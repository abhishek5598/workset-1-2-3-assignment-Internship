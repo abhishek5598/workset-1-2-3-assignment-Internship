{
 "cells": [
  {
   "cell_type": "markdown",
   "id": "040c8566",
   "metadata": {},
   "source": [
    "# Python practice set 1 "
   ]
  },
  {
   "cell_type": "markdown",
   "id": "383502f0",
   "metadata": {},
   "source": [
    "# Q-11"
   ]
  },
  {
   "cell_type": "markdown",
   "id": "32a8c652",
   "metadata": {},
   "source": [
    "# Write a python programme to find out the factorial of the number....."
   ]
  },
  {
   "cell_type": "code",
   "execution_count": 2,
   "id": "de5c1477",
   "metadata": {},
   "outputs": [],
   "source": [
    "#Get Input from users"
   ]
  },
  {
   "cell_type": "code",
   "execution_count": 7,
   "id": "c768bf44",
   "metadata": {},
   "outputs": [
    {
     "name": "stdout",
     "output_type": "stream",
     "text": [
      "enter the value3\n",
      "The factorial of 3 is 6\n"
     ]
    }
   ],
   "source": [
    "num=int(input(\"enter the value\"))\n",
    "#initialize the result to 1\n",
    "result=1\n",
    "for i in range(1,num+1):\n",
    "    result*=i\n",
    "print(\"The factorial of\",num,\"is\",result)    "
   ]
  },
  {
   "cell_type": "markdown",
   "id": "a5881af1",
   "metadata": {},
   "source": [
    "# Q-12"
   ]
  },
  {
   "cell_type": "markdown",
   "id": "01b9275e",
   "metadata": {},
   "source": [
    "# Write apython programe to find whether number is prime or composite..."
   ]
  },
  {
   "cell_type": "code",
   "execution_count": 9,
   "id": "17c44953",
   "metadata": {},
   "outputs": [
    {
     "name": "stdout",
     "output_type": "stream",
     "text": [
      "enter the number17\n",
      "the number 17 is a prime number\n"
     ]
    }
   ],
   "source": [
    "num=int(input(\"enter the number\"))\n",
    "if num%2!=0:\n",
    "    print(\"the number\",num,\"is a prime number\")\n",
    "else:\n",
    "    print(\"the number\",num,\"is a composite number\")"
   ]
  },
  {
   "cell_type": "markdown",
   "id": "e5b0beb0",
   "metadata": {},
   "source": [
    "# Q-13"
   ]
  },
  {
   "cell_type": "code",
   "execution_count": 10,
   "id": "156ef2ec",
   "metadata": {},
   "outputs": [],
   "source": [
    "#Write a python program to check whether a given string is palindrome or not"
   ]
  },
  {
   "cell_type": "code",
   "execution_count": 12,
   "id": "0aa70263",
   "metadata": {},
   "outputs": [
    {
     "name": "stdout",
     "output_type": "stream",
     "text": [
      "Enter a string: kanak\n",
      "The string is a palindrome\n"
     ]
    }
   ],
   "source": [
    "# get input from user\n",
    "string = input(\"Enter a string: \")\n",
    "\n",
    "# check if string is a palindrome\n",
    "if string == string[::-1]:\n",
    "    print(\"The string is a palindrome\")\n",
    "else:\n",
    "    print(\"The string is not a palindrome\")\n"
   ]
  },
  {
   "cell_type": "markdown",
   "id": "61ce2e13",
   "metadata": {},
   "source": [
    "# Q-14"
   ]
  },
  {
   "cell_type": "code",
   "execution_count": 13,
   "id": "f04d0469",
   "metadata": {},
   "outputs": [],
   "source": [
    "#. Write a Python program to get the third side of right-angled triangle from two given sides"
   ]
  },
  {
   "cell_type": "code",
   "execution_count": 14,
   "id": "68934edf",
   "metadata": {},
   "outputs": [
    {
     "name": "stdout",
     "output_type": "stream",
     "text": [
      "The length of the third side is: 5.0\n"
     ]
    }
   ],
   "source": [
    "import math\n",
    "\n",
    "def get_third_side(a, b):\n",
    "    \"\"\"\n",
    "    Calculate the length of the third side of a right-angled triangle\n",
    "    given the lengths of the other two sides.\n",
    "    \"\"\"\n",
    "    c = math.sqrt(a**2 + b**2)\n",
    "    return c\n",
    "\n",
    "# Example usage\n",
    "a = 3\n",
    "b = 4\n",
    "c = get_third_side(a, b)\n",
    "print(\"The length of the third side is:\", c)\n"
   ]
  },
  {
   "cell_type": "markdown",
   "id": "c2f0d80b",
   "metadata": {},
   "source": [
    "# Q-15"
   ]
  },
  {
   "cell_type": "code",
   "execution_count": 15,
   "id": "ce805367",
   "metadata": {},
   "outputs": [],
   "source": [
    " #Write a python program to print the frequency of each of the characters present in a given string"
   ]
  },
  {
   "cell_type": "code",
   "execution_count": 16,
   "id": "907b8cf7",
   "metadata": {},
   "outputs": [
    {
     "name": "stdout",
     "output_type": "stream",
     "text": [
      "h : 1\n",
      "e : 1\n",
      "l : 3\n",
      "o : 2\n",
      ", : 1\n",
      "  : 1\n",
      "w : 1\n",
      "r : 1\n",
      "d : 1\n",
      "! : 1\n"
     ]
    }
   ],
   "source": [
    "def character_frequency(string):\n",
    "    \"\"\"\n",
    "    Count the frequency of each character in a given string\n",
    "    and print the results.\n",
    "    \"\"\"\n",
    "    frequency = {}\n",
    "    for char in string:\n",
    "        if char in frequency:\n",
    "            frequency[char] += 1\n",
    "        else:\n",
    "            frequency[char] = 1\n",
    "\n",
    "    for key, value in frequency.items():\n",
    "        print(key, \":\", value)\n",
    "\n",
    "# Example usage\n",
    "string = \"hello, world!\"\n",
    "character_frequency(string)\n"
   ]
  },
  {
   "cell_type": "markdown",
   "id": "f2e81f0d",
   "metadata": {},
   "source": [
    "# END OF ASSIGNMENT"
   ]
  },
  {
   "cell_type": "code",
   "execution_count": null,
   "id": "965dc876",
   "metadata": {},
   "outputs": [],
   "source": []
  }
 ],
 "metadata": {
  "kernelspec": {
   "display_name": "Python 3 (ipykernel)",
   "language": "python",
   "name": "python3"
  },
  "language_info": {
   "codemirror_mode": {
    "name": "ipython",
    "version": 3
   },
   "file_extension": ".py",
   "mimetype": "text/x-python",
   "name": "python",
   "nbconvert_exporter": "python",
   "pygments_lexer": "ipython3",
   "version": "3.9.12"
  }
 },
 "nbformat": 4,
 "nbformat_minor": 5
}

{
 "cells": [
  {
   "cell_type": "markdown",
   "id": "98683445",
   "metadata": {},
   "source": [
    "# Worksheet-3 Python"
   ]
  },
  {
   "cell_type": "markdown",
   "id": "e4ed58d9",
   "metadata": {},
   "source": [
    "# Q.11"
   ]
  },
  {
   "cell_type": "code",
   "execution_count": 1,
   "id": "d7e86e23",
   "metadata": {},
   "outputs": [],
   "source": [
    " #Write a python function print pyramid of stars. Level of the pyramid should be taken as an input from the user\n"
   ]
  },
  {
   "cell_type": "code",
   "execution_count": 2,
   "id": "3c4043e6",
   "metadata": {},
   "outputs": [],
   "source": [
    "def print_pyramid(level):\n",
    "    for i in range(1, level + 1):\n",
    "        print(' ' * (level - i) + '*' * (2*i - 1))\n"
   ]
  },
  {
   "cell_type": "code",
   "execution_count": 3,
   "id": "5e8a3cdb",
   "metadata": {},
   "outputs": [
    {
     "name": "stdout",
     "output_type": "stream",
     "text": [
      "    *\n",
      "   ***\n",
      "  *****\n",
      " *******\n",
      "*********\n"
     ]
    }
   ],
   "source": [
    "print_pyramid(5)\n"
   ]
  },
  {
   "cell_type": "markdown",
   "id": "f74e11b3",
   "metadata": {},
   "source": [
    "Q.12:-  Write a python function print Hourglass pattern."
   ]
  },
  {
   "cell_type": "code",
   "execution_count": 4,
   "id": "3f8f63d4",
   "metadata": {},
   "outputs": [
    {
     "name": "stdout",
     "output_type": "stream",
     "text": [
      "*********\n",
      " *******\n",
      "  *****\n",
      "   ***\n",
      "    *\n",
      "   ***\n",
      "  *****\n",
      " *******\n",
      "*********\n"
     ]
    }
   ],
   "source": [
    "def print_hourglass(n):\n",
    "    for i in range(n, 0, -1):\n",
    "        print(' ' * (n - i) + '*' * (2*i - 1))\n",
    "    for i in range(2, n+1):\n",
    "        print(' ' * (n - i) + '*' * (2*i - 1))\n",
    "\n",
    "print_hourglass(5)\n"
   ]
  },
  {
   "cell_type": "markdown",
   "id": "b88d7777",
   "metadata": {},
   "source": [
    "Q-13.Write a python function to print Pascal’s Triangle. The number of levels in the triangle must be taken as input \n",
    "by the user. E.g. \n",
    "Input = 5 "
   ]
  },
  {
   "cell_type": "code",
   "execution_count": 5,
   "id": "c5ee1356",
   "metadata": {},
   "outputs": [],
   "source": [
    "def print_pascals_triangle(n):\n",
    "    triangle = [[1] * (i + 1) for i in range(n)]\n",
    "    for i in range(n):\n",
    "        for j in range(1, i):\n",
    "            triangle[i][j] = triangle[i-1][j-1] + triangle[i-1][j]\n",
    "    for row in triangle:\n",
    "        print(\" \".join(str(num) for num in row).center(n*3))\n",
    "\n"
   ]
  },
  {
   "cell_type": "code",
   "execution_count": 6,
   "id": "bb5b78a2",
   "metadata": {},
   "outputs": [
    {
     "name": "stdout",
     "output_type": "stream",
     "text": [
      "       1       \n",
      "      1 1      \n",
      "     1 2 1     \n",
      "    1 3 3 1    \n",
      "   1 4 6 4 1   \n"
     ]
    }
   ],
   "source": [
    "print_pascals_triangle(5)\n"
   ]
  },
  {
   "cell_type": "markdown",
   "id": "c3214496",
   "metadata": {},
   "source": [
    "Q-14. Write a python function to print Diamond Shaped Pattern shown below. Function must take integer input \n",
    "which represents the number of stars in the middle most line. E.g.: \n",
    "Input = 5 "
   ]
  },
  {
   "cell_type": "code",
   "execution_count": 8,
   "id": "339e83ef",
   "metadata": {},
   "outputs": [],
   "source": [
    "def print_diamond(n):\n",
    "    for i in range(1, n+1):\n",
    "        print(' '*(n-i) + '*'*(2*i-1))\n",
    "    for i in range(n-1, 0, -1):\n",
    "        print(' '*(n-i) + '*'*(2*i-1))"
   ]
  },
  {
   "cell_type": "code",
   "execution_count": 9,
   "id": "e6546f9f",
   "metadata": {},
   "outputs": [
    {
     "name": "stdout",
     "output_type": "stream",
     "text": [
      "    *\n",
      "   ***\n",
      "  *****\n",
      " *******\n",
      "*********\n",
      " *******\n",
      "  *****\n",
      "   ***\n",
      "    *\n"
     ]
    }
   ],
   "source": [
    "print_diamond(5)"
   ]
  },
  {
   "cell_type": "markdown",
   "id": "e73a762f",
   "metadata": {},
   "source": [
    "Q-15.Write a python function to print Diamond Shaped Character Pattern shown below. Function must take integer \n",
    "input within range 1 to 26, which represents the rank of the alphabet. E.g.: \n",
    "Input = 5"
   ]
  },
  {
   "cell_type": "code",
   "execution_count": 11,
   "id": "105a88fc",
   "metadata": {},
   "outputs": [
    {
     "name": "stdout",
     "output_type": "stream",
     "text": [
      "    A    \n",
      "   A B A   \n",
      "  A B C B A  \n",
      " A B C D C B A \n",
      "A B C D E D C B A\n",
      " A B C D C B A \n",
      "  A B C B A  \n",
      "   A B A   \n",
      "    A    \n"
     ]
    }
   ],
   "source": [
    "def diamond_pattern(rank):\n",
    "    if rank < 1 or rank > 26:\n",
    "        print(\"Rank should be within the range of 1 to 26\")\n",
    "    else:\n",
    "        # Top half of the diamond\n",
    "        for i in range(1, rank+1):\n",
    "            spaces = \" \" * (rank-i)\n",
    "            letters = \" \".join(chr(65+j) for j in range(i))\n",
    "            print(f\"{spaces}{letters}{''.join(reversed(letters))[1:]}{spaces}\")\n",
    "\n",
    "        # Bottom half of the diamond\n",
    "        for i in range(rank-1, 0, -1):\n",
    "            spaces = \" \" * (rank-i)\n",
    "            letters = \" \".join(chr(65+j) for j in range(i))\n",
    "            print(f\"{spaces}{letters}{''.join(reversed(letters))[1:]}{spaces}\")\n",
    "\n",
    "# Example usage\n",
    "diamond_pattern(5)\n"
   ]
  },
  {
   "cell_type": "code",
   "execution_count": null,
   "id": "de2436b7",
   "metadata": {},
   "outputs": [],
   "source": []
  }
 ],
 "metadata": {
  "kernelspec": {
   "display_name": "Python 3 (ipykernel)",
   "language": "python",
   "name": "python3"
  },
  "language_info": {
   "codemirror_mode": {
    "name": "ipython",
    "version": 3
   },
   "file_extension": ".py",
   "mimetype": "text/x-python",
   "name": "python",
   "nbconvert_exporter": "python",
   "pygments_lexer": "ipython3",
   "version": "3.9.12"
  }
 },
 "nbformat": 4,
 "nbformat_minor": 5
}

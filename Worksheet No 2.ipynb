{
 "cells": [
  {
   "cell_type": "markdown",
   "id": "a6931fb3",
   "metadata": {},
   "source": [
    "Q-14.Write a python program to solve a quadratic equation of the form ax^2+bx+c=0. Where a, b and c are to be \n",
    "taken by user input. Handle the erroneous input, such as ‘a’ should not be equal to 0."
   ]
  },
  {
   "cell_type": "code",
   "execution_count": 2,
   "id": "c131fa73",
   "metadata": {},
   "outputs": [
    {
     "name": "stdout",
     "output_type": "stream",
     "text": [
      "Enter a: 1\n",
      "Enter b: 8\n",
      "Enter c: 16\n",
      "Solutions are: x1 = -4.00, x2 = -4.00\n"
     ]
    }
   ],
   "source": [
    "import math\n",
    "\n",
    "def solve_quadratic(a, b, c):\n",
    "    # Check if a is equal to 0\n",
    "    if a == 0:\n",
    "        print(\"Error: 'a' should not be equal to 0\")\n",
    "        return None\n",
    "    \n",
    "    # Calculate discriminant\n",
    "    disc = b**2 - 4*a*c\n",
    "    \n",
    "    # Check if discriminant is negative\n",
    "    if disc < 0:\n",
    "        print(\"Error: No real solutions exist\")\n",
    "        return None\n",
    "    \n",
    "    # Calculate solutions\n",
    "    x1 = (-b + math.sqrt(disc)) / (2*a)\n",
    "    x2 = (-b - math.sqrt(disc)) / (2*a)\n",
    "    \n",
    "    # Print solutions\n",
    "    print(f\"Solutions are: x1 = {x1:.2f}, x2 = {x2:.2f}\")\n",
    "\n",
    "# Take user input for a, b, and c\n",
    "a = float(input(\"Enter a: \"))\n",
    "b = float(input(\"Enter b: \"))\n",
    "c = float(input(\"Enter c: \"))\n",
    "\n",
    "# Solve the quadratic equation\n",
    "solve_quadratic(a, b, c)\n"
   ]
  },
  {
   "cell_type": "markdown",
   "id": "90f80e22",
   "metadata": {},
   "source": [
    "Q-15.Write a python program to find the sum of first ‘n’ natural numbers without using any loop. Ask users to \n",
    "input the value of ‘n"
   ]
  },
  {
   "cell_type": "code",
   "execution_count": 3,
   "id": "d6477812",
   "metadata": {},
   "outputs": [
    {
     "name": "stdout",
     "output_type": "stream",
     "text": [
      "Enter a positive integer value for n: 12\n",
      "The sum of first 12 natural numbers is 78.0\n"
     ]
    }
   ],
   "source": [
    "def sum_of_naturals(n):\n",
    "    # Use formula to calculate sum of n natural numbers\n",
    "    # Formula: sum = n * (n + 1) / 2\n",
    "    sum = n * (n + 1) / 2\n",
    "    \n",
    "    # Print the sum\n",
    "    print(f\"The sum of first {n} natural numbers is {sum}\")\n",
    "\n",
    "# Take user input for n\n",
    "n = int(input(\"Enter a positive integer value for n: \"))\n",
    "\n",
    "# Call the function to calculate sum of n natural numbers\n",
    "sum_of_naturals(n)\n"
   ]
  },
  {
   "cell_type": "code",
   "execution_count": null,
   "id": "84a7b1c9",
   "metadata": {},
   "outputs": [],
   "source": []
  }
 ],
 "metadata": {
  "kernelspec": {
   "display_name": "Python 3 (ipykernel)",
   "language": "python",
   "name": "python3"
  },
  "language_info": {
   "codemirror_mode": {
    "name": "ipython",
    "version": 3
   },
   "file_extension": ".py",
   "mimetype": "text/x-python",
   "name": "python",
   "nbconvert_exporter": "python",
   "pygments_lexer": "ipython3",
   "version": "3.9.12"
  }
 },
 "nbformat": 4,
 "nbformat_minor": 5
}
